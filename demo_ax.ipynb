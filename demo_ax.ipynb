{
 "cells": [
  {
   "cell_type": "code",
   "execution_count": 1,
   "metadata": {
    "colab": {
     "base_uri": "https://localhost:8080/",
     "height": 319
    },
    "colab_type": "code",
    "executionInfo": {
     "elapsed": 8657,
     "status": "ok",
     "timestamp": 1583257357516,
     "user": {
      "displayName": "Clemens Kr",
      "photoUrl": "",
      "userId": "12814642608370213937"
     },
     "user_tz": -60
    },
    "id": "hpuok3OQ7fIz",
    "outputId": "4cac83b6-3c12-4863-fad4-a5e4fc1f051c",
    "pycharm": {
     "name": "#%%\n"
    }
   },
   "outputs": [
    {
     "name": "stdout",
     "output_type": "stream",
     "text": [
      "running in notebook and/or colab\n"
     ]
    }
   ],
   "source": [
    "import sys\n",
    "from typing import Dict\n",
    "\n",
    "import torch\n",
    "from torch import nn\n",
    "from torch.utils.data import DataLoader\n",
    "\n",
    "try:\n",
    "    from google.colab import drive\n",
    "\n",
    "    IN_COLAB = True\n",
    "\n",
    "    !pip3 install ax-platform\n",
    "    !pip3 install tqdm\n",
    "\n",
    "    drive.mount('/content/drive')\n",
    "    path = \"/content/drive/My Drive/Colab Notebooks/\"\n",
    "\n",
    "\n",
    "    # for python imports from google drive\n",
    "    sys.path.append(path)\n",
    "except:\n",
    "    IN_COLAB = False\n",
    "    path = \"./\"\n",
    "\n",
    "from ax.service.managed_loop import optimize\n",
    "\n",
    "from utils.datasets import Characters as TextDataset\n",
    "from utils import Trainer, print_cuda_info, is_notebook\n",
    "from models.baseline import BaselineNetwork\n",
    "\n",
    "if is_notebook() or IN_COLAB:\n",
    "    from tqdm import tqdm_notebook as tqdm\n",
    "    print(\"running in notebook and/or colab\")\n",
    "    \n",
    "else:\n",
    "    from tqdm import tqdm\n"
   ]
  },
  {
   "cell_type": "code",
   "execution_count": 2,
   "metadata": {
    "colab": {},
    "colab_type": "code",
    "id": "bva6ZRHMfBun"
   },
   "outputs": [],
   "source": [
    "def train(architecture, data_loader: DataLoader, parameters: Dict[str, float], device: torch.device) -> nn.Module:\n",
    "    epochs = parameters.get(\"epochs\", 1) \n",
    "    embedding_size = parameters.get(\"embedding_size\", 16) \n",
    "    hidden_size = parameters.get(\"hidden_size\", 128) \n",
    "    lr = parameters.get(\"lr\", 0.01)\n",
    "\n",
    "    samples = len(data_loader.dataset)\n",
    "    batch_size = data_loader.batch_size\n",
    "    updates = int((samples * epochs) / batch_size)\n",
    "     \n",
    "    print(f\"epochs: {epochs} / embedding_size: {embedding_size} / hidden_size: {hidden_size} / lr: {lr:5f}\")\n",
    "     \n",
    "    model = architecture(\n",
    "        input_size=parameters.get(\"input_size\", 1.0),\n",
    "        embedding_size=embedding_size,\n",
    "        hidden_sizes=[hidden_size],\n",
    "        output_size=parameters.get(\"output_size\", -1),\n",
    "        linear_sizes=[],\n",
    "        layer_norm=False)\n",
    "     \n",
    "    criterion = nn.CrossEntropyLoss()\n",
    "    optimizer = torch.optim.Adam(\n",
    "        model.parameters(),\n",
    "        lr=lr)\n",
    "     \n",
    "    pbar = tqdm(total=updates)\n",
    "     \n",
    "     \n",
    "    model.to(device)\n",
    "    criterion.to(device)\n",
    "     \n",
    "    model.train()\n",
    "     \n",
    "    for e in range(epochs):\n",
    "        for idx, (inputs, labels) in enumerate(data_loader):\n",
    "            inputs = inputs.to(device=device)\n",
    "            labels = labels.to(device=device)\n",
    "     \n",
    "            optimizer.zero_grad()\n",
    "     \n",
    "            (out) = model(inputs)\n",
    "            logits = out[0]\n",
    "     \n",
    "            pred = logits.view(-1, logits.shape[2])\n",
    "            true = labels.view(-1)\n",
    "     \n",
    "            loss = criterion(pred, true)\n",
    "            loss.backward()\n",
    "            optimizer.step()\n",
    "     \n",
    "            pbar.set_postfix_str(\n",
    "                f\"epoch: {e + 1}/{epochs} , train_loss: {loss:5f}\")\n",
    "     \n",
    "            pbar.update()\n",
    "     \n",
    "    pbar.close()\n",
    "     \n",
    "    return model"
   ]
  },
  {
   "cell_type": "code",
   "execution_count": 3,
   "metadata": {
    "colab": {},
    "colab_type": "code",
    "id": "PUbt97Zl7fJC",
    "pycharm": {
     "name": "#%%\n"
    }
   },
   "outputs": [],
   "source": [
    "def evaluate(model: nn.Module, data_loader: DataLoader, device: torch.device):\n",
    "    criterion = nn.CrossEntropyLoss()\n",
    "\n",
    "    model.eval()\n",
    "\n",
    "    with torch.no_grad():\n",
    "        losses = []\n",
    "        # x, y = iter(val_loader).next()\n",
    "        for inputs, labels in data_loader:\n",
    "            inputs = inputs.to(device)\n",
    "            labels = labels.to(device)\n",
    "\n",
    "            # TODO find better generic way\n",
    "            (out) = model(inputs)\n",
    "            logits = out[0]\n",
    "\n",
    "            loss = criterion(logits.view(-1, logits.shape[2]), labels.view(-1))\n",
    "\n",
    "            losses.append(loss)\n",
    "\n",
    "    losses = torch.stack(losses)\n",
    "\n",
    "    score = float(torch.mean(losses))\n",
    "\n",
    "    print(f\"validation loss: {score}\")\n",
    "\n",
    "    return score\n"
   ]
  },
  {
   "cell_type": "code",
   "execution_count": 4,
   "metadata": {
    "colab": {
     "base_uri": "https://localhost:8080/",
     "height": 34
    },
    "colab_type": "code",
    "executionInfo": {
     "elapsed": 10345,
     "status": "ok",
     "timestamp": 1583257359225,
     "user": {
      "displayName": "Clemens Kr",
      "photoUrl": "",
      "userId": "12814642608370213937"
     },
     "user_tz": -60
    },
    "id": "J_sTj6cr7fJH",
    "outputId": "f2e73045-77c9-42a4-b54d-5170387a653f",
    "pycharm": {
     "name": "#%%\n"
    }
   },
   "outputs": [
    {
     "name": "stdout",
     "output_type": "stream",
     "text": [
      "cuda device: 0 / name: GeForce GTX 1080 Ti / cuda-capability: (6, 1) / memory: 11.0 GB\n"
     ]
    }
   ],
   "source": [
    "use_cuda = torch.cuda.is_available()\n",
    "# use_cuda = False\n",
    "\n",
    "if use_cuda:\n",
    "    print_cuda_info()\n",
    "    torch.cuda.empty_cache()\n",
    "\n",
    "device = torch.device('cuda' if use_cuda else 'cpu')\n",
    "\n",
    "project_name = \"shakespeare\"\n",
    "\n",
    "seq_length = 100\n",
    "\n",
    "path_data = path + \"projects/\" + project_name + \"/data/\"\n",
    "path_states = path + \"projects/\" + project_name + \"/states/\"\n",
    "dataset = TextDataset(path_data + \"data.txt\", seq_length)\n",
    "\n",
    "train_dataset, valid_dataset = dataset.split()\n",
    "\n",
    "batch_size_train = 64\n",
    "batch_size_valid = int(len(valid_dataset) / 4) + 1\n",
    "train_loader = DataLoader(train_dataset, batch_size=batch_size_train, shuffle=True, pin_memory=use_cuda)\n",
    "valid_loader = DataLoader(valid_dataset, batch_size=batch_size_valid, shuffle=True, pin_memory=use_cuda)\n"
   ]
  },
  {
   "cell_type": "code",
   "execution_count": 5,
   "metadata": {
    "colab": {},
    "colab_type": "code",
    "id": "kXUSNVzo7fJL",
    "pycharm": {
     "name": "#%%\n"
    }
   },
   "outputs": [],
   "source": [
    "def train_evaluate(parameterization):\n",
    "    model = train(BaselineNetwork, train_loader, parameters=parameterization, device=device)\n",
    "    return evaluate(model, valid_loader, device)\n"
   ]
  },
  {
   "cell_type": "code",
   "execution_count": null,
   "metadata": {
    "colab": {
     "base_uri": "https://localhost:8080/",
     "height": 116,
     "referenced_widgets": [
      "f391c87ab7c0447089add59337d600df",
      "413e43c2bfd845fcb407581306bdf02e",
      "11f12b855d154fc7af0ba67c1526f197",
      "62f6b53e501940dab920d270a08a145b",
      "f72111389614420faa2b2ea69aa298d8",
      "d8131ff23c20431c8e67c239721bffc6",
      "88c5d6ce400c466db6d1242e511967ce",
      "cfa332a27c1a433facbb02bdf8372116"
     ]
    },
    "colab_type": "code",
    "id": "uEyM--7V7fJR",
    "outputId": "84331ee7-c0c6-41f4-f220-b1a757a5a469",
    "pycharm": {
     "name": "#%%\n"
    }
   },
   "outputs": [
    {
     "name": "stderr",
     "output_type": "stream",
     "text": [
      "[INFO 03-03 19:46:45] ax.modelbridge.dispatch_utils: Using Bayesian Optimization generation strategy: GenerationStrategy(name='Sobol+GPEI', steps=[Sobol for 6 arms, GPEI for subsequent arms], generated 0 arm(s) so far). Iterations after 6 will take longer to generate due to model-fitting.\n",
      "[INFO 03-03 19:46:45] ax.service.managed_loop: Started full optimization with 20 steps.\n",
      "[INFO 03-03 19:46:45] ax.service.managed_loop: Running optimization trial 1...\n"
     ]
    },
    {
     "name": "stdout",
     "output_type": "stream",
     "text": [
      "epochs: 2 / embedding_size: 122 / hidden_size: 685 / lr: 0.003751\n"
     ]
    },
    {
     "name": "stderr",
     "output_type": "stream",
     "text": [
      "C:\\Users\\ck\\Miniconda3\\envs\\pt\\lib\\site-packages\\ipykernel_launcher.py:26: TqdmDeprecationWarning:\n",
      "\n",
      "This function will be removed in tqdm==5.0.0\n",
      "Please use `tqdm.notebook.tqdm` instead of `tqdm.tqdm_notebook`\n",
      "\n"
     ]
    },
    {
     "data": {
      "application/vnd.jupyter.widget-view+json": {
       "model_id": "ae7fd41030684651bd7642267e235ef6",
       "version_major": 2,
       "version_minor": 0
      },
      "text/plain": [
       "HBox(children=(FloatProgress(value=0.0, max=1306.0), HTML(value='')))"
      ]
     },
     "metadata": {},
     "output_type": "display_data"
    },
    {
     "name": "stdout",
     "output_type": "stream",
     "text": [
      "\n"
     ]
    },
    {
     "name": "stderr",
     "output_type": "stream",
     "text": [
      "[INFO 03-03 19:47:47] ax.service.managed_loop: Running optimization trial 2...\n"
     ]
    },
    {
     "name": "stdout",
     "output_type": "stream",
     "text": [
      "validation loss: 1.2351291179656982\n",
      "epochs: 2 / embedding_size: 112 / hidden_size: 916 / lr: 0.001177\n"
     ]
    },
    {
     "data": {
      "application/vnd.jupyter.widget-view+json": {
       "model_id": "6906aff4016140618c7660bfb8199935",
       "version_major": 2,
       "version_minor": 0
      },
      "text/plain": [
       "HBox(children=(FloatProgress(value=0.0, max=1306.0), HTML(value='')))"
      ]
     },
     "metadata": {},
     "output_type": "display_data"
    }
   ],
   "source": [
    "best_parameters, values, experiment, model = optimize(\n",
    "    parameters=[\n",
    "        {\"name\": \"input_size\", \"type\": \"fixed\", \"value\": 1},\n",
    "        {\"name\": \"embedding_size\", \"type\": \"range\", \"bounds\": [22, 128]},\n",
    "        {\"name\": \"hidden_size\", \"type\": \"range\", \"bounds\": [655, 1024]},\n",
    "        {\"name\": \"output_size\", \"type\": \"fixed\", \"value\": len(dataset._vocabulary)},\n",
    "        {\"name\": \"lr\", \"type\": \"range\", \"bounds\": [0.001, 0.01], \"log_scale\": True},\n",
    "        {\"name\": \"epochs\", \"type\": \"fixed\", \"value\": 2},\n",
    "    ],\n",
    "    evaluation_function=train_evaluate,\n",
    "    objective_name='cross entropy loss',\n",
    "    minimize=True\n",
    ")\n",
    "\n",
    "print(best_parameters)"
   ]
  },
  {
   "cell_type": "code",
   "execution_count": null,
   "outputs": [],
   "source": [
    "print(values)"
   ],
   "metadata": {
    "collapsed": false,
    "pycharm": {
     "name": "#%%\n"
    }
   }
  },
  {
   "cell_type": "code",
   "execution_count": 8,
   "metadata": {},
   "outputs": [
    {
     "name": "stdout",
     "output_type": "stream",
     "text": [
      "({'cross entropy loss': 1.1822179519846951}, {'cross entropy loss': {'cross entropy loss': 2.6354923964628006e-08}})\n"
     ]
    }
   ],
   "source": []
  },
  {
   "cell_type": "code",
   "execution_count": null,
   "metadata": {},
   "outputs": [],
   "source": []
  }
 ],
 "metadata": {
  "accelerator": "GPU",
  "colab": {
   "collapsed_sections": [],
   "name": "demo_ax.ipynb",
   "provenance": []
  },
  "kernelspec": {
   "display_name": "Python 3",
   "language": "python",
   "name": "python3"
  },
  "language_info": {
   "codemirror_mode": {
    "name": "ipython",
    "version": 3
   },
   "file_extension": ".py",
   "mimetype": "text/x-python",
   "name": "python",
   "nbconvert_exporter": "python",
   "pygments_lexer": "ipython3",
   "version": "3.7.6"
  },
  "widgets": {
   "application/vnd.jupyter.widget-state+json": {
    "11f12b855d154fc7af0ba67c1526f197": {
     "model_module": "@jupyter-widgets/controls",
     "model_name": "IntProgressModel",
     "state": {
      "_dom_classes": [],
      "_model_module": "@jupyter-widgets/controls",
      "_model_module_version": "1.5.0",
      "_model_name": "IntProgressModel",
      "_view_count": null,
      "_view_module": "@jupyter-widgets/controls",
      "_view_module_version": "1.5.0",
      "_view_name": "ProgressView",
      "bar_style": "success",
      "description": "",
      "description_tooltip": null,
      "layout": "IPY_MODEL_d8131ff23c20431c8e67c239721bffc6",
      "max": 3267,
      "min": 0,
      "orientation": "horizontal",
      "style": "IPY_MODEL_f72111389614420faa2b2ea69aa298d8",
      "value": 3267
     }
    },
    "413e43c2bfd845fcb407581306bdf02e": {
     "model_module": "@jupyter-widgets/base",
     "model_name": "LayoutModel",
     "state": {
      "_model_module": "@jupyter-widgets/base",
      "_model_module_version": "1.2.0",
      "_model_name": "LayoutModel",
      "_view_count": null,
      "_view_module": "@jupyter-widgets/base",
      "_view_module_version": "1.2.0",
      "_view_name": "LayoutView",
      "align_content": null,
      "align_items": null,
      "align_self": null,
      "border": null,
      "bottom": null,
      "display": null,
      "flex": null,
      "flex_flow": null,
      "grid_area": null,
      "grid_auto_columns": null,
      "grid_auto_flow": null,
      "grid_auto_rows": null,
      "grid_column": null,
      "grid_gap": null,
      "grid_row": null,
      "grid_template_areas": null,
      "grid_template_columns": null,
      "grid_template_rows": null,
      "height": null,
      "justify_content": null,
      "justify_items": null,
      "left": null,
      "margin": null,
      "max_height": null,
      "max_width": null,
      "min_height": null,
      "min_width": null,
      "object_fit": null,
      "object_position": null,
      "order": null,
      "overflow": null,
      "overflow_x": null,
      "overflow_y": null,
      "padding": null,
      "right": null,
      "top": null,
      "visibility": null,
      "width": null
     }
    },
    "62f6b53e501940dab920d270a08a145b": {
     "model_module": "@jupyter-widgets/controls",
     "model_name": "HTMLModel",
     "state": {
      "_dom_classes": [],
      "_model_module": "@jupyter-widgets/controls",
      "_model_module_version": "1.5.0",
      "_model_name": "HTMLModel",
      "_view_count": null,
      "_view_module": "@jupyter-widgets/controls",
      "_view_module_version": "1.5.0",
      "_view_name": "HTMLView",
      "description": "",
      "description_tooltip": null,
      "layout": "IPY_MODEL_cfa332a27c1a433facbb02bdf8372116",
      "placeholder": "​",
      "style": "IPY_MODEL_88c5d6ce400c466db6d1242e511967ce",
      "value": "3270it [01:48, 30.26it/s, epoch: 5/5 , train_loss: 3.156730]"
     }
    },
    "88c5d6ce400c466db6d1242e511967ce": {
     "model_module": "@jupyter-widgets/controls",
     "model_name": "DescriptionStyleModel",
     "state": {
      "_model_module": "@jupyter-widgets/controls",
      "_model_module_version": "1.5.0",
      "_model_name": "DescriptionStyleModel",
      "_view_count": null,
      "_view_module": "@jupyter-widgets/base",
      "_view_module_version": "1.2.0",
      "_view_name": "StyleView",
      "description_width": ""
     }
    },
    "cfa332a27c1a433facbb02bdf8372116": {
     "model_module": "@jupyter-widgets/base",
     "model_name": "LayoutModel",
     "state": {
      "_model_module": "@jupyter-widgets/base",
      "_model_module_version": "1.2.0",
      "_model_name": "LayoutModel",
      "_view_count": null,
      "_view_module": "@jupyter-widgets/base",
      "_view_module_version": "1.2.0",
      "_view_name": "LayoutView",
      "align_content": null,
      "align_items": null,
      "align_self": null,
      "border": null,
      "bottom": null,
      "display": null,
      "flex": null,
      "flex_flow": null,
      "grid_area": null,
      "grid_auto_columns": null,
      "grid_auto_flow": null,
      "grid_auto_rows": null,
      "grid_column": null,
      "grid_gap": null,
      "grid_row": null,
      "grid_template_areas": null,
      "grid_template_columns": null,
      "grid_template_rows": null,
      "height": null,
      "justify_content": null,
      "justify_items": null,
      "left": null,
      "margin": null,
      "max_height": null,
      "max_width": null,
      "min_height": null,
      "min_width": null,
      "object_fit": null,
      "object_position": null,
      "order": null,
      "overflow": null,
      "overflow_x": null,
      "overflow_y": null,
      "padding": null,
      "right": null,
      "top": null,
      "visibility": null,
      "width": null
     }
    },
    "d8131ff23c20431c8e67c239721bffc6": {
     "model_module": "@jupyter-widgets/base",
     "model_name": "LayoutModel",
     "state": {
      "_model_module": "@jupyter-widgets/base",
      "_model_module_version": "1.2.0",
      "_model_name": "LayoutModel",
      "_view_count": null,
      "_view_module": "@jupyter-widgets/base",
      "_view_module_version": "1.2.0",
      "_view_name": "LayoutView",
      "align_content": null,
      "align_items": null,
      "align_self": null,
      "border": null,
      "bottom": null,
      "display": null,
      "flex": null,
      "flex_flow": null,
      "grid_area": null,
      "grid_auto_columns": null,
      "grid_auto_flow": null,
      "grid_auto_rows": null,
      "grid_column": null,
      "grid_gap": null,
      "grid_row": null,
      "grid_template_areas": null,
      "grid_template_columns": null,
      "grid_template_rows": null,
      "height": null,
      "justify_content": null,
      "justify_items": null,
      "left": null,
      "margin": null,
      "max_height": null,
      "max_width": null,
      "min_height": null,
      "min_width": null,
      "object_fit": null,
      "object_position": null,
      "order": null,
      "overflow": null,
      "overflow_x": null,
      "overflow_y": null,
      "padding": null,
      "right": null,
      "top": null,
      "visibility": null,
      "width": null
     }
    },
    "f391c87ab7c0447089add59337d600df": {
     "model_module": "@jupyter-widgets/controls",
     "model_name": "HBoxModel",
     "state": {
      "_dom_classes": [],
      "_model_module": "@jupyter-widgets/controls",
      "_model_module_version": "1.5.0",
      "_model_name": "HBoxModel",
      "_view_count": null,
      "_view_module": "@jupyter-widgets/controls",
      "_view_module_version": "1.5.0",
      "_view_name": "HBoxView",
      "box_style": "",
      "children": [
       "IPY_MODEL_11f12b855d154fc7af0ba67c1526f197",
       "IPY_MODEL_62f6b53e501940dab920d270a08a145b"
      ],
      "layout": "IPY_MODEL_413e43c2bfd845fcb407581306bdf02e"
     }
    },
    "f72111389614420faa2b2ea69aa298d8": {
     "model_module": "@jupyter-widgets/controls",
     "model_name": "ProgressStyleModel",
     "state": {
      "_model_module": "@jupyter-widgets/controls",
      "_model_module_version": "1.5.0",
      "_model_name": "ProgressStyleModel",
      "_view_count": null,
      "_view_module": "@jupyter-widgets/base",
      "_view_module_version": "1.2.0",
      "_view_name": "StyleView",
      "bar_color": null,
      "description_width": ""
     }
    }
   }
  }
 },
 "nbformat": 4,
 "nbformat_minor": 1
}